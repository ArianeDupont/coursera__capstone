{
    "cells": [
        {
            "cell_type": "markdown",
            "metadata": {
                "collapsed": true
            },
            "source": "## Capstone Project - Coursera : Part 1\n\n# Where to open an Art Gallery in Brooklyn ? "
        },
        {
            "cell_type": "markdown",
            "metadata": {},
            "source": "Hi, and welcome to my project. As an art lover myself, I can only dream to open a gallery someday, and how about in one of the biggest cities in the world, where museums and galleries are considered premium hot spots ? "
        },
        {
            "cell_type": "markdown",
            "metadata": {},
            "source": "- Description of the problem / background\n\nNew York is a huge city, with different boroughs all divided in many neighborhoods. Finding the optimum place where to open an art gallery can be tideous, especially with the outstanding number of them there. Using data science can be a quick way to map the galleries, pick a borough and rapidly cluster their presences. I will be focusing on Brooklyn in this work. "
        },
        {
            "cell_type": "markdown",
            "metadata": {},
            "source": "- Data used \n\nTwo types of data will be used for this project; \n     \n     - Data of NY and its different boroughs' coordinates, which was made available on a Coursera Lab  \n  \n     - Data from Foursquare to know where are situated the art galleries \n     \nLinking those two sets of data will allow to map everything accurately. "
        },
        {
            "cell_type": "markdown",
            "metadata": {},
            "source": "- What will we be doing ? \n\nFirst, we will prepare and clean our data, then merge both data. We will use the kmeans method to identify the "
        },
        {
            "cell_type": "code",
            "execution_count": null,
            "metadata": {},
            "outputs": [],
            "source": ""
        }
    ],
    "metadata": {
        "kernelspec": {
            "display_name": "Python 3.7",
            "language": "python",
            "name": "python3"
        },
        "language_info": {
            "codemirror_mode": {
                "name": "ipython",
                "version": 3
            },
            "file_extension": ".py",
            "mimetype": "text/x-python",
            "name": "python",
            "nbconvert_exporter": "python",
            "pygments_lexer": "ipython3",
            "version": "3.7.9"
        }
    },
    "nbformat": 4,
    "nbformat_minor": 1
}